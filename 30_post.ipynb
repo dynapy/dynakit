{
 "cells": [
  {
   "cell_type": "code",
   "execution_count": null,
   "metadata": {},
   "outputs": [],
   "source": [
    "import yaml\n",
    "import pandas as pd\n",
    "import os"
   ]
  },
  {
   "cell_type": "code",
   "execution_count": null,
   "metadata": {},
   "outputs": [],
   "source": [
    "with open('extract.yaml','r') as file:\n",
    "    inp = yaml.load(file, Loader=yaml.FullLoader) "
   ]
  },
  {
   "cell_type": "code",
   "execution_count": null,
   "metadata": {},
   "outputs": [],
   "source": [
    "c_dir=os.getcwd()"
   ]
  },
  {
   "cell_type": "code",
   "execution_count": null,
   "metadata": {},
   "outputs": [],
   "source": [
    "res_dir=inp['result_file']"
   ]
  },
  {
   "cell_type": "code",
   "execution_count": null,
   "metadata": {},
   "outputs": [
    {
     "data": {
      "text/plain": [
       "'D:\\\\Thesis_R\\\\Stoch_sim_noise_results_210531\\\\results_noise'"
      ]
     },
     "execution_count": null,
     "metadata": {},
     "output_type": "execute_result"
    }
   ],
   "source": [
    "res_dir"
   ]
  },
  {
   "cell_type": "code",
   "execution_count": null,
   "metadata": {},
   "outputs": [
    {
     "data": {
      "text/plain": [
       "'C:\\\\Users\\\\ypyas\\\\Google Drive\\\\Thesis_stuff\\\\ML_files_new\\\\Crash parameters\\\\1000\\\\Noise'"
      ]
     },
     "execution_count": null,
     "metadata": {},
     "output_type": "execute_result"
    }
   ],
   "source": [
    "os.getcwd()"
   ]
  },
  {
   "cell_type": "code",
   "execution_count": null,
   "metadata": {},
   "outputs": [],
   "source": [
    "ex=pd.DataFrame.from_dict(inp['extract']).T"
   ]
  },
  {
   "cell_type": "code",
   "execution_count": null,
   "metadata": {},
   "outputs": [
    {
     "data": {
      "text/html": [
       "<div>\n",
       "<style scoped>\n",
       "    .dataframe tbody tr th:only-of-type {\n",
       "        vertical-align: middle;\n",
       "    }\n",
       "\n",
       "    .dataframe tbody tr th {\n",
       "        vertical-align: top;\n",
       "    }\n",
       "\n",
       "    .dataframe thead th {\n",
       "        text-align: right;\n",
       "    }\n",
       "</style>\n",
       "<table border=\"1\" class=\"dataframe\">\n",
       "  <thead>\n",
       "    <tr style=\"text-align: right;\">\n",
       "      <th></th>\n",
       "      <th>csv</th>\n",
       "      <th>out</th>\n",
       "    </tr>\n",
       "  </thead>\n",
       "  <tbody>\n",
       "    <tr>\n",
       "      <th>thums_chest</th>\n",
       "      <td>[risk_of_ribfracture.csv]</td>\n",
       "      <td>[Risk(45yrs|2ribfx)(%)]</td>\n",
       "    </tr>\n",
       "  </tbody>\n",
       "</table>\n",
       "</div>"
      ],
      "text/plain": [
       "                                   csv                      out\n",
       "thums_chest  [risk_of_ribfracture.csv]  [Risk(45yrs|2ribfx)(%)]"
      ]
     },
     "execution_count": null,
     "metadata": {},
     "output_type": "execute_result"
    }
   ],
   "source": [
    "ex"
   ]
  },
  {
   "cell_type": "code",
   "execution_count": null,
   "metadata": {},
   "outputs": [],
   "source": [
    "df=pd.read_csv('maxstrains.csv', header=None)"
   ]
  },
  {
   "cell_type": "code",
   "execution_count": null,
   "metadata": {},
   "outputs": [
    {
     "data": {
      "text/plain": [
       "'risk_of_ribfracture.csv'"
      ]
     },
     "execution_count": null,
     "metadata": {},
     "output_type": "execute_result"
    }
   ],
   "source": [
    "ex.loc['thums_chest'].csv[0]"
   ]
  },
  {
   "cell_type": "code",
   "execution_count": null,
   "metadata": {},
   "outputs": [
    {
     "data": {
      "text/plain": [
       "65"
      ]
     },
     "execution_count": null,
     "metadata": {},
     "output_type": "execute_result"
    }
   ],
   "source": [
    "(len(os.listdir(res_dir))+1)"
   ]
  },
  {
   "cell_type": "code",
   "execution_count": null,
   "metadata": {},
   "outputs": [],
   "source": [
    "df.iloc[0].T"
   ]
  },
  {
   "cell_type": "code",
   "execution_count": null,
   "metadata": {},
   "outputs": [],
   "source": [
    "df = pd.DataFrame()\n",
    "head={}\n",
    "for file in range(1,len(os.listdir(res_dir))+1):\n",
    "    file_name= '1.{}'.format(file)\n",
    "    \n",
    "    for m in ex.index:\n",
    "        os.chdir(os.path.join(res_dir,file_name,m))\n",
    "        df_head=pd.read_csv(ex.loc[m].csv, header=None)\n",
    "#         for k in range(0,len(ex.loc[m].out)):\n",
    "#             head[ex.loc[m].out[k]]=[df_head.loc[i,1] for i in range(0,len(df_head)) if df_head.loc[i,0] == ex.loc[m].out[k]]\n",
    "#     da=pd.DataFrame.from_dict(head)\n",
    "    da=df_head.iloc[0].T\n",
    "    df = pd.DataFrame.append(df,da,ignore_index=True)"
   ]
  },
  {
   "cell_type": "code",
   "execution_count": null,
   "metadata": {},
   "outputs": [],
   "source": [
    "df = pd.DataFrame()\n",
    "head={}\n",
    "for file in range(1,(len(os.listdir(res_dir))+1)):\n",
    "    file_name= '1.{}'.format(file)\n",
    "    \n",
    "    for m in ex.index:\n",
    "        os.chdir(os.path.join(res_dir,file_name,m))\n",
    "        df_head=pd.read_csv(ex.loc[m].csv[0], header=None)\n",
    "        for k in range(0,len(ex.loc[m].out)):\n",
    "            head[ex.loc[m].out[k]]=[df_head.loc[i,1] for i in range(0,len(df_head)) if df_head.loc[i,0] == ex.loc[m].out[k]]\n",
    "    da=pd.DataFrame.from_dict(head)\n",
    "    df = pd.DataFrame.append(df,da,ignore_index=True)"
   ]
  },
  {
   "cell_type": "code",
   "execution_count": null,
   "metadata": {},
   "outputs": [],
   "source": [
    "os.chdir(c_dir)"
   ]
  },
  {
   "cell_type": "code",
   "execution_count": null,
   "metadata": {},
   "outputs": [],
   "source": [
    "df_output_res=pd.read_csv(inp['samples'], header = 1)\n",
    "df_output_res[df.columns] = df\n",
    "df_output_res.to_csv(\"1000_noise_ribrisk.csv\", index=False)"
   ]
  },
  {
   "cell_type": "code",
   "execution_count": null,
   "metadata": {},
   "outputs": [
    {
     "data": {
      "text/html": [
       "<div>\n",
       "<style scoped>\n",
       "    .dataframe tbody tr th:only-of-type {\n",
       "        vertical-align: middle;\n",
       "    }\n",
       "\n",
       "    .dataframe tbody tr th {\n",
       "        vertical-align: top;\n",
       "    }\n",
       "\n",
       "    .dataframe thead th {\n",
       "        text-align: right;\n",
       "    }\n",
       "</style>\n",
       "<table border=\"1\" class=\"dataframe\">\n",
       "  <thead>\n",
       "    <tr style=\"text-align: right;\">\n",
       "      <th></th>\n",
       "      <th>R</th>\n",
       "      <th>i</th>\n",
       "      <th>s</th>\n",
       "      <th>k</th>\n",
       "      <th>(</th>\n",
       "      <th>4</th>\n",
       "      <th>5</th>\n",
       "      <th>y</th>\n",
       "      <th>r</th>\n",
       "      <th>|</th>\n",
       "      <th>2</th>\n",
       "      <th>b</th>\n",
       "      <th>f</th>\n",
       "      <th>x</th>\n",
       "      <th>)</th>\n",
       "      <th>%</th>\n",
       "    </tr>\n",
       "  </thead>\n",
       "  <tbody>\n",
       "  </tbody>\n",
       "</table>\n",
       "</div>"
      ],
      "text/plain": [
       "Empty DataFrame\n",
       "Columns: [R, i, s, k, (, 4, 5, y, r, |, 2, b, f, x, ), %]\n",
       "Index: []"
      ]
     },
     "execution_count": null,
     "metadata": {},
     "output_type": "execute_result"
    }
   ],
   "source": [
    "df"
   ]
  },
  {
   "cell_type": "code",
   "execution_count": null,
   "metadata": {},
   "outputs": [
    {
     "data": {
      "text/html": [
       "<div>\n",
       "<style scoped>\n",
       "    .dataframe tbody tr th:only-of-type {\n",
       "        vertical-align: middle;\n",
       "    }\n",
       "\n",
       "    .dataframe tbody tr th {\n",
       "        vertical-align: top;\n",
       "    }\n",
       "\n",
       "    .dataframe thead th {\n",
       "        text-align: right;\n",
       "    }\n",
       "</style>\n",
       "<table border=\"1\" class=\"dataframe\">\n",
       "  <thead>\n",
       "    <tr style=\"text-align: right;\">\n",
       "      <th></th>\n",
       "      <th>Point</th>\n",
       "      <th>A2OFRC</th>\n",
       "      <th>B2OFRC</th>\n",
       "      <th>BELTLL1</th>\n",
       "      <th>DABPRES</th>\n",
       "      <th>DABRAD</th>\n",
       "      <th>DUR</th>\n",
       "      <th>DV</th>\n",
       "      <th>EV1</th>\n",
       "      <th>EV2</th>\n",
       "      <th>...</th>\n",
       "      <th>5</th>\n",
       "      <th>y</th>\n",
       "      <th>r</th>\n",
       "      <th>|</th>\n",
       "      <th>2</th>\n",
       "      <th>b</th>\n",
       "      <th>f</th>\n",
       "      <th>x</th>\n",
       "      <th>)</th>\n",
       "      <th>%</th>\n",
       "    </tr>\n",
       "  </thead>\n",
       "  <tbody>\n",
       "    <tr>\n",
       "      <th>0</th>\n",
       "      <td>1</td>\n",
       "      <td>0.297</td>\n",
       "      <td>0.300</td>\n",
       "      <td>3.93</td>\n",
       "      <td>1.31</td>\n",
       "      <td>332.0</td>\n",
       "      <td>110.0</td>\n",
       "      <td>48.8</td>\n",
       "      <td>0.000108</td>\n",
       "      <td>0.00895</td>\n",
       "      <td>...</td>\n",
       "      <td>NaN</td>\n",
       "      <td>NaN</td>\n",
       "      <td>NaN</td>\n",
       "      <td>NaN</td>\n",
       "      <td>NaN</td>\n",
       "      <td>NaN</td>\n",
       "      <td>NaN</td>\n",
       "      <td>NaN</td>\n",
       "      <td>NaN</td>\n",
       "      <td>NaN</td>\n",
       "    </tr>\n",
       "    <tr>\n",
       "      <th>1</th>\n",
       "      <td>2</td>\n",
       "      <td>0.303</td>\n",
       "      <td>0.298</td>\n",
       "      <td>3.95</td>\n",
       "      <td>1.31</td>\n",
       "      <td>332.0</td>\n",
       "      <td>110.0</td>\n",
       "      <td>49.2</td>\n",
       "      <td>0.003830</td>\n",
       "      <td>-0.00375</td>\n",
       "      <td>...</td>\n",
       "      <td>NaN</td>\n",
       "      <td>NaN</td>\n",
       "      <td>NaN</td>\n",
       "      <td>NaN</td>\n",
       "      <td>NaN</td>\n",
       "      <td>NaN</td>\n",
       "      <td>NaN</td>\n",
       "      <td>NaN</td>\n",
       "      <td>NaN</td>\n",
       "      <td>NaN</td>\n",
       "    </tr>\n",
       "    <tr>\n",
       "      <th>2</th>\n",
       "      <td>3</td>\n",
       "      <td>0.301</td>\n",
       "      <td>0.299</td>\n",
       "      <td>3.93</td>\n",
       "      <td>1.31</td>\n",
       "      <td>332.0</td>\n",
       "      <td>109.0</td>\n",
       "      <td>48.8</td>\n",
       "      <td>0.010000</td>\n",
       "      <td>0.00931</td>\n",
       "      <td>...</td>\n",
       "      <td>NaN</td>\n",
       "      <td>NaN</td>\n",
       "      <td>NaN</td>\n",
       "      <td>NaN</td>\n",
       "      <td>NaN</td>\n",
       "      <td>NaN</td>\n",
       "      <td>NaN</td>\n",
       "      <td>NaN</td>\n",
       "      <td>NaN</td>\n",
       "      <td>NaN</td>\n",
       "    </tr>\n",
       "    <tr>\n",
       "      <th>3</th>\n",
       "      <td>4</td>\n",
       "      <td>0.297</td>\n",
       "      <td>0.300</td>\n",
       "      <td>3.94</td>\n",
       "      <td>1.31</td>\n",
       "      <td>332.0</td>\n",
       "      <td>110.0</td>\n",
       "      <td>49.2</td>\n",
       "      <td>-0.000213</td>\n",
       "      <td>0.00536</td>\n",
       "      <td>...</td>\n",
       "      <td>NaN</td>\n",
       "      <td>NaN</td>\n",
       "      <td>NaN</td>\n",
       "      <td>NaN</td>\n",
       "      <td>NaN</td>\n",
       "      <td>NaN</td>\n",
       "      <td>NaN</td>\n",
       "      <td>NaN</td>\n",
       "      <td>NaN</td>\n",
       "      <td>NaN</td>\n",
       "    </tr>\n",
       "    <tr>\n",
       "      <th>4</th>\n",
       "      <td>5</td>\n",
       "      <td>0.298</td>\n",
       "      <td>0.301</td>\n",
       "      <td>3.94</td>\n",
       "      <td>1.31</td>\n",
       "      <td>332.0</td>\n",
       "      <td>110.0</td>\n",
       "      <td>48.9</td>\n",
       "      <td>-0.008590</td>\n",
       "      <td>-0.00112</td>\n",
       "      <td>...</td>\n",
       "      <td>NaN</td>\n",
       "      <td>NaN</td>\n",
       "      <td>NaN</td>\n",
       "      <td>NaN</td>\n",
       "      <td>NaN</td>\n",
       "      <td>NaN</td>\n",
       "      <td>NaN</td>\n",
       "      <td>NaN</td>\n",
       "      <td>NaN</td>\n",
       "      <td>NaN</td>\n",
       "    </tr>\n",
       "    <tr>\n",
       "      <th>...</th>\n",
       "      <td>...</td>\n",
       "      <td>...</td>\n",
       "      <td>...</td>\n",
       "      <td>...</td>\n",
       "      <td>...</td>\n",
       "      <td>...</td>\n",
       "      <td>...</td>\n",
       "      <td>...</td>\n",
       "      <td>...</td>\n",
       "      <td>...</td>\n",
       "      <td>...</td>\n",
       "      <td>...</td>\n",
       "      <td>...</td>\n",
       "      <td>...</td>\n",
       "      <td>...</td>\n",
       "      <td>...</td>\n",
       "      <td>...</td>\n",
       "      <td>...</td>\n",
       "      <td>...</td>\n",
       "      <td>...</td>\n",
       "      <td>...</td>\n",
       "    </tr>\n",
       "    <tr>\n",
       "      <th>59</th>\n",
       "      <td>60</td>\n",
       "      <td>0.302</td>\n",
       "      <td>0.301</td>\n",
       "      <td>3.94</td>\n",
       "      <td>1.31</td>\n",
       "      <td>332.0</td>\n",
       "      <td>109.0</td>\n",
       "      <td>48.8</td>\n",
       "      <td>-0.001190</td>\n",
       "      <td>0.00785</td>\n",
       "      <td>...</td>\n",
       "      <td>NaN</td>\n",
       "      <td>NaN</td>\n",
       "      <td>NaN</td>\n",
       "      <td>NaN</td>\n",
       "      <td>NaN</td>\n",
       "      <td>NaN</td>\n",
       "      <td>NaN</td>\n",
       "      <td>NaN</td>\n",
       "      <td>NaN</td>\n",
       "      <td>NaN</td>\n",
       "    </tr>\n",
       "    <tr>\n",
       "      <th>60</th>\n",
       "      <td>61</td>\n",
       "      <td>0.302</td>\n",
       "      <td>0.302</td>\n",
       "      <td>3.95</td>\n",
       "      <td>1.31</td>\n",
       "      <td>332.0</td>\n",
       "      <td>109.0</td>\n",
       "      <td>49.0</td>\n",
       "      <td>0.006600</td>\n",
       "      <td>0.00486</td>\n",
       "      <td>...</td>\n",
       "      <td>NaN</td>\n",
       "      <td>NaN</td>\n",
       "      <td>NaN</td>\n",
       "      <td>NaN</td>\n",
       "      <td>NaN</td>\n",
       "      <td>NaN</td>\n",
       "      <td>NaN</td>\n",
       "      <td>NaN</td>\n",
       "      <td>NaN</td>\n",
       "      <td>NaN</td>\n",
       "    </tr>\n",
       "    <tr>\n",
       "      <th>61</th>\n",
       "      <td>62</td>\n",
       "      <td>0.302</td>\n",
       "      <td>0.301</td>\n",
       "      <td>3.94</td>\n",
       "      <td>1.31</td>\n",
       "      <td>332.0</td>\n",
       "      <td>109.0</td>\n",
       "      <td>49.1</td>\n",
       "      <td>0.012900</td>\n",
       "      <td>-0.00694</td>\n",
       "      <td>...</td>\n",
       "      <td>NaN</td>\n",
       "      <td>NaN</td>\n",
       "      <td>NaN</td>\n",
       "      <td>NaN</td>\n",
       "      <td>NaN</td>\n",
       "      <td>NaN</td>\n",
       "      <td>NaN</td>\n",
       "      <td>NaN</td>\n",
       "      <td>NaN</td>\n",
       "      <td>NaN</td>\n",
       "    </tr>\n",
       "    <tr>\n",
       "      <th>62</th>\n",
       "      <td>63</td>\n",
       "      <td>0.299</td>\n",
       "      <td>0.302</td>\n",
       "      <td>3.95</td>\n",
       "      <td>1.31</td>\n",
       "      <td>332.0</td>\n",
       "      <td>110.0</td>\n",
       "      <td>48.8</td>\n",
       "      <td>-0.014000</td>\n",
       "      <td>0.00384</td>\n",
       "      <td>...</td>\n",
       "      <td>NaN</td>\n",
       "      <td>NaN</td>\n",
       "      <td>NaN</td>\n",
       "      <td>NaN</td>\n",
       "      <td>NaN</td>\n",
       "      <td>NaN</td>\n",
       "      <td>NaN</td>\n",
       "      <td>NaN</td>\n",
       "      <td>NaN</td>\n",
       "      <td>NaN</td>\n",
       "    </tr>\n",
       "    <tr>\n",
       "      <th>63</th>\n",
       "      <td>64</td>\n",
       "      <td>0.300</td>\n",
       "      <td>0.303</td>\n",
       "      <td>3.93</td>\n",
       "      <td>1.31</td>\n",
       "      <td>332.0</td>\n",
       "      <td>110.0</td>\n",
       "      <td>49.0</td>\n",
       "      <td>-0.009350</td>\n",
       "      <td>-0.00723</td>\n",
       "      <td>...</td>\n",
       "      <td>NaN</td>\n",
       "      <td>NaN</td>\n",
       "      <td>NaN</td>\n",
       "      <td>NaN</td>\n",
       "      <td>NaN</td>\n",
       "      <td>NaN</td>\n",
       "      <td>NaN</td>\n",
       "      <td>NaN</td>\n",
       "      <td>NaN</td>\n",
       "      <td>NaN</td>\n",
       "    </tr>\n",
       "  </tbody>\n",
       "</table>\n",
       "<p>64 rows × 39 columns</p>\n",
       "</div>"
      ],
      "text/plain": [
       "    Point  A2OFRC  B2OFRC  BELTLL1  DABPRES  DABRAD    DUR    DV       EV1  \\\n",
       "0       1   0.297   0.300     3.93     1.31   332.0  110.0  48.8  0.000108   \n",
       "1       2   0.303   0.298     3.95     1.31   332.0  110.0  49.2  0.003830   \n",
       "2       3   0.301   0.299     3.93     1.31   332.0  109.0  48.8  0.010000   \n",
       "3       4   0.297   0.300     3.94     1.31   332.0  110.0  49.2 -0.000213   \n",
       "4       5   0.298   0.301     3.94     1.31   332.0  110.0  48.9 -0.008590   \n",
       "..    ...     ...     ...      ...      ...     ...    ...   ...       ...   \n",
       "59     60   0.302   0.301     3.94     1.31   332.0  109.0  48.8 -0.001190   \n",
       "60     61   0.302   0.302     3.95     1.31   332.0  109.0  49.0  0.006600   \n",
       "61     62   0.302   0.301     3.94     1.31   332.0  109.0  49.1  0.012900   \n",
       "62     63   0.299   0.302     3.95     1.31   332.0  110.0  48.8 -0.014000   \n",
       "63     64   0.300   0.303     3.93     1.31   332.0  110.0  49.0 -0.009350   \n",
       "\n",
       "        EV2  ...   5   y   r   |   2   b   f   x   )   %  \n",
       "0   0.00895  ... NaN NaN NaN NaN NaN NaN NaN NaN NaN NaN  \n",
       "1  -0.00375  ... NaN NaN NaN NaN NaN NaN NaN NaN NaN NaN  \n",
       "2   0.00931  ... NaN NaN NaN NaN NaN NaN NaN NaN NaN NaN  \n",
       "3   0.00536  ... NaN NaN NaN NaN NaN NaN NaN NaN NaN NaN  \n",
       "4  -0.00112  ... NaN NaN NaN NaN NaN NaN NaN NaN NaN NaN  \n",
       "..      ...  ...  ..  ..  ..  ..  ..  ..  ..  ..  ..  ..  \n",
       "59  0.00785  ... NaN NaN NaN NaN NaN NaN NaN NaN NaN NaN  \n",
       "60  0.00486  ... NaN NaN NaN NaN NaN NaN NaN NaN NaN NaN  \n",
       "61 -0.00694  ... NaN NaN NaN NaN NaN NaN NaN NaN NaN NaN  \n",
       "62  0.00384  ... NaN NaN NaN NaN NaN NaN NaN NaN NaN NaN  \n",
       "63 -0.00723  ... NaN NaN NaN NaN NaN NaN NaN NaN NaN NaN  \n",
       "\n",
       "[64 rows x 39 columns]"
      ]
     },
     "execution_count": null,
     "metadata": {},
     "output_type": "execute_result"
    }
   ],
   "source": [
    "df_output_res"
   ]
  },
  {
   "cell_type": "code",
   "execution_count": null,
   "metadata": {},
   "outputs": [],
   "source": []
  }
 ],
 "metadata": {
  "kernelspec": {
   "display_name": "Python 3",
   "language": "python",
   "name": "python3"
  }
 },
 "nbformat": 4,
 "nbformat_minor": 4
}

{
 "cells": [
  {
   "cell_type": "code",
   "execution_count": null,
   "metadata": {},
   "outputs": [],
   "source": [
    "import yaml\n",
    "import pandas as pd\n",
    "import os"
   ]
  },
  {
   "cell_type": "code",
   "execution_count": null,
   "metadata": {},
   "outputs": [],
   "source": [
    "with open('example/post_test/extract.yaml','r') as file:\n",
    "    inp = yaml.load(file, Loader=yaml.FullLoader) "
   ]
  },
  {
   "cell_type": "code",
   "execution_count": null,
   "metadata": {},
   "outputs": [],
   "source": [
    "project_dir=os.getcwd()\n",
    "res_dir=inp['result_filepath']\n",
    "ex=pd.DataFrame.from_dict(inp['compilation_details']).T\n",
    "file_save=inp['compiled_filepath']"
   ]
  },
  {
   "cell_type": "code",
   "execution_count": null,
   "metadata": {},
   "outputs": [],
   "source": [
    "df = pd.DataFrame()\n",
    "head={}\n",
    "for file in range(1,(len(os.listdir(res_dir))+1)):\n",
    "    file_name= '1.{}'.format(file)\n",
    "    \n",
    "    for m in ex.index:\n",
    "        os.chdir(os.path.join(res_dir,file_name,m))\n",
    "        df_head=pd.read_csv(ex.loc[m].csv[0], header=None)\n",
    "        for k in range(0,len(ex.loc[m].out)):\n",
    "            head[ex.loc[m].out[k]]=[df_head.loc[i,1] for i in range(0,len(df_head)) if df_head.loc[i,0] == ex.loc[m].out[k]]\n",
    "    da=pd.DataFrame.from_dict(head)\n",
    "    df = pd.DataFrame.append(df,da,ignore_index=True)\n",
    "\n",
    "df_output_res=pd.read_csv(inp['sampling_filepath'], header = 1)\n",
    "df_output_res[df.columns] = df\n",
    "os.chdir(project_dir)\n",
    "df_output_res.to_csv(file_save, index=False)"
   ]
  },
  {
   "cell_type": "code",
   "execution_count": null,
   "metadata": {},
   "outputs": [],
   "source": []
  }
 ],
 "metadata": {
  "kernelspec": {
   "display_name": "Python 3",
   "language": "python",
   "name": "python3"
  }
 },
 "nbformat": 4,
 "nbformat_minor": 4
}

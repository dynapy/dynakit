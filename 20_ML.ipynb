{
 "cells": [
  {
   "cell_type": "code",
   "execution_count": null,
   "metadata": {},
   "outputs": [],
   "source": [
    "#default_exp FE"
   ]
  },
  {
   "cell_type": "markdown",
   "metadata": {},
   "source": [
    "# Machine learning surrogate\n",
    "\n",
    "> This module contains functions to train an Ml surragate of an HBM with data to train and test the model. This has functions to train, predict and get learning curves of  a surrogate."
   ]
  },
  {
   "cell_type": "code",
   "execution_count": null,
   "metadata": {},
   "outputs": [],
   "source": [
    "#hide\n",
    "from nbdev.showdoc import *"
   ]
  },
  {
   "cell_type": "code",
   "execution_count": null,
   "metadata": {},
   "outputs": [],
   "source": [
    "#export\n",
    "import numpy as np\n",
    "import yaml\n",
    "import pandas as pd\n",
    "from sklearn.model_selection import KFold\n",
    "from sklearn.model_selection import learning_curve\n",
    "import matplotlib.pyplot as plt\n",
    "from sklearn.linear_model import Lasso\n",
    "from sklearn.linear_model import Ridge\n",
    "\n",
    "class ML():\n",
    "\n",
    "    def __init__(self, settings):\n",
    " \n",
    "        self.settings = settings\n",
    "        self._read_user_input()\n",
    "     \n",
    "    def _read_user_input(self): \n",
    "        with open(self.settings,'r') as file:\n",
    "            inp = yaml.load(file, Loader=yaml.FullLoader) \n",
    "        inp_keys=[*inp.keys()]\n",
    "        \n",
    "        req=['data','ML method'] \n",
    "        \n",
    "        for names in req:\n",
    "            if names not in inp_keys:\n",
    "                raise Exception(names +\" not in input file\")\n",
    "            if inp[names] == None:\n",
    "                raise Exception(names +\" not in input file\")\n",
    "\n",
    "        self.datafile=inp['data']\n",
    "        self.method=inp['ML method']\n",
    "        self._read_data()\n",
    "\n",
    "    def _read_data(self):\n",
    "        self.X=pd.read_csv(self.datafile['input'])\n",
    "        self.y=pd.read_csv(self.datafile['output'])\n",
    "        self._ml_model()\n",
    "\n",
    "    def _ml_model(self):\n",
    "        if self.method['method']=='lasso':\n",
    "            self.mod=Lasso()\n",
    "        elif self.method['method']=='ridge':\n",
    "            self.mod=Ridge()\n",
    "        else:\n",
    "            raise Exception(\"Enter a valid model\")\n",
    "        self._learning_curve()\n",
    "        return self.mod\n",
    "        \n",
    "\n",
    "    def _learning_curve(self):\n",
    "        self.cv = KFold(n_splits=10, random_state=1)\n",
    "        self.train_size,self.train_score,self.test_score=learning_curve(self.mod,self.X,self.y,cv=self.cv,scoring='neg_mean_absolute_error')\n",
    "        self.train_mean=-np.mean(self.train_score,axis=1)\n",
    "        self.train_std=-np.std(self.train_score,axis=1)\n",
    "        self.test_mean=-np.mean(self.test_score,axis=1)\n",
    "        self.test_std=-np.std(self.test_score,axis=1)\n",
    "\n",
    "    def plot_LC(self):\n",
    "        plt.figure()\n",
    "        plt.style.use('seaborn-ticks')\n",
    "        plt.plot(self.train_size,self.train_mean, 'o-',label=\"Training score\")\n",
    "        plt.plot(self.train_size, self.test_mean, 'o-',label=\"Test score\")\n",
    "        plt.fill_between(self.train_size, self.train_mean - self.train_std, self.train_mean + self.train_std, alpha=0.2)\n",
    "        plt.fill_between(self.train_size, self.test_mean - self.test_std, self.test_mean + self.test_std, alpha=0.2)\n",
    "        plt.title(\"Learning Curve for {}\".format(str(self.mod).split('(')[0]))\n",
    "        plt.xlabel(\"Training Set Size\")\n",
    "        plt.ylabel(\"MAE\")\n",
    "        plt.legend(loc=\"best\")\n",
    "        plt.grid()\n",
    "        plt.show()\n",
    "    \n",
    "    def predict(self,X_pre):\n",
    "        X = self.X.to_numpy()\n",
    "        y = self.y.to_numpy()\n",
    "        kf=self.cv\n",
    "        xp=pd.read_csv(X_pre)\n",
    "        for train_index, test_index in kf.split(X):\n",
    "            X_train, X_test = X[train_index], X[test_index]\n",
    "            y_train, y_test = y[train_index], y[test_index]\n",
    "            HBM_Train = self.mod.fit(X_train, y_train)\n",
    "        self.prd=HBM_Train.predict(xp)\n",
    "        return self.prd"
   ]
  },
  {
   "cell_type": "markdown",
   "metadata": {},
   "source": [
    "# Using dynakit.ML to train models\n",
    "\n",
    "## Process flow\n",
    "\n",
    "![Work flow of ML](example/test_ML/process_flow.png)\n",
    "\n",
    "\n",
    "The information required by dynakit to develop surrogates can by provided in two files located at the root of the **project directory**: *dynakit_ML.yaml*\n",
    "\n",
    "### `dynakit_ML.yaml`\n",
    "\n",
    "Use *dynakit_ML.yaml* to provide details to build the surrogate.\n",
    "\n",
    "An example is given here:\n",
    "\n",
    "```yaml\n",
    "\n",
    "data:\n",
    "  input: input.csv # file name with the X data \n",
    "  output: output.csv # file name with the y data\n",
    "\n",
    "ML method:\n",
    "  method: ridge # define the method\n",
    "  parameters: # define hyperparameters\n",
    "        alpha : 0.000001\n",
    "        selection: random\n",
    "\n",
    "``` "
   ]
  },
  {
   "cell_type": "code",
   "execution_count": null,
   "metadata": {},
   "outputs": [],
   "source": [
    "#hide\n",
    "import os\n",
    "os.chdir('example/test_ML')"
   ]
  },
  {
   "cell_type": "code",
   "execution_count": null,
   "metadata": {},
   "outputs": [],
   "source": [
    "# hide\n",
    "# define object using the dynakit_ML.yaml file\n",
    "k=ML('dynakit_ML.yaml')"
   ]
  },
  {
   "cell_type": "code",
   "execution_count": null,
   "metadata": {},
   "outputs": [
    {
     "data": {
      "image/png": "[encoded data removed]",
      "text/plain": [
       "<Figure size 432x288 with 1 Axes>"
      ]
     },
     "metadata": {
      "needs_background": "light"
     },
     "output_type": "display_data"
    }
   ],
   "source": [
    "#hide\n",
    "# use .plot_LC to check the learning curve\n",
    "k.plot_LC()"
   ]
  },
  {
   "cell_type": "code",
   "execution_count": null,
   "metadata": {},
   "outputs": [
    {
     "data": {
      "text/plain": [
       "array([[-45.05577922],\n",
       "       [-42.20864056],\n",
       "       [-37.92892393],\n",
       "       [-27.87185926]])"
      ]
     },
     "execution_count": null,
     "metadata": {},
     "output_type": "execute_result"
    }
   ],
   "source": [
    "#hide\n",
    "# use .predict to use the trained model to predict for new X\n",
    "k.predict(\"tst.csv\")"
   ]
  }
 ],
 "metadata": {
  "kernelspec": {
   "display_name": "Python 3.8.5 64-bit ('base': conda)",
   "name": "python3"
  }
 },
 "nbformat": 4,
 "nbformat_minor": 4
}

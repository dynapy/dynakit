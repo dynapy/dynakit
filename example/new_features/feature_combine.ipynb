{
 "cells": [
  {
   "cell_type": "code",
   "execution_count": 4,
   "metadata": {},
   "outputs": [],
   "source": [
    "import pandas as pd\n",
    "import os\n",
    "import yaml"
   ]
  },
  {
   "cell_type": "code",
   "execution_count": 16,
   "metadata": {},
   "outputs": [],
   "source": [
    "mfile=r'C:\\Users\\yash\\OneDrive - Chalmers\\ch'\n",
    "runs=100"
   ]
  },
  {
   "cell_type": "code",
   "execution_count": 17,
   "metadata": {},
   "outputs": [],
   "source": [
    "def get_dataset(file):\n",
    "        \"\"\" read and joins the input yaml file from each simulation folder\n",
    "        and saves it in a Inputs_outputs_dataset.csv file.\n",
    "        \n",
    "        Returns\n",
    "        -------\n",
    "         Inputs_outputs_dataset.csv\n",
    "        \n",
    "        \"\"\"\n",
    "        os.chdir(mfile)\n",
    "        Result_set = pd.DataFrame(data=None,columns=None,dtype=None,copy=False)\n",
    "        for j in range(0,runs):\n",
    "            os.chdir('base_{:03}'.format(j+1))\n",
    "            with open('simulation_Parameters.yaml','r') as file:\n",
    "                inp = yaml.load(file, Loader=yaml.FullLoader) \n",
    "            df_input_set = pd.DataFrame.from_dict(inp, orient='index').T\n",
    "            Result_set=Result_set.append(df_input_set,ignore_index=True)\n",
    "            os.chdir(mfile)\n",
    "        Result_set.to_csv(\"Inputs_outputs_dataset.csv\", index=False) "
   ]
  },
  {
   "cell_type": "code",
   "execution_count": 18,
   "metadata": {},
   "outputs": [],
   "source": [
    "get_dataset(mfile)"
   ]
  }
 ],
 "metadata": {
  "interpreter": {
   "hash": "4ffaee104d421f26687f4f05a862c62cf3b92a4cc09acd52f7b88bc496f1c747"
  },
  "kernelspec": {
   "display_name": "Python 3.8.12 ('dynakit_env')",
   "language": "python",
   "name": "python3"
  },
  "language_info": {
   "codemirror_mode": {
    "name": "ipython",
    "version": 3
   },
   "file_extension": ".py",
   "mimetype": "text/x-python",
   "name": "python",
   "nbconvert_exporter": "python",
   "pygments_lexer": "ipython3",
   "version": "3.8.12"
  },
  "orig_nbformat": 4
 },
 "nbformat": 4,
 "nbformat_minor": 2
}

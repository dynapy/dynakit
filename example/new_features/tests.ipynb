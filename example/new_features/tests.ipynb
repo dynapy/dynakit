{
 "cells": [
  {
   "cell_type": "code",
   "execution_count": 64,
   "metadata": {},
   "outputs": [],
   "source": [
    "import pandas as pd"
   ]
  },
  {
   "cell_type": "code",
   "execution_count": 120,
   "metadata": {},
   "outputs": [],
   "source": [
    "keyfile=pd.read_table(r'ccc.key')"
   ]
  },
  {
   "cell_type": "code",
   "execution_count": 121,
   "metadata": {},
   "outputs": [],
   "source": [
    "b='release'\n",
    "        \n",
    "c='6.407598823863775'"
   ]
  },
  {
   "cell_type": "code",
   "execution_count": 122,
   "metadata": {},
   "outputs": [
    {
     "name": "stdout",
     "output_type": "stream",
     "text": [
      "release\n",
      "tr\n",
      "['R', 'release  ', '6.41e+00']\n",
      "2.58e-01\n"
     ]
    }
   ],
   "source": [
    "for k,v in enumerate(keyfile.values):\n",
    "    if v[0].startswith((\"R\")):\n",
    "        print(v[0].strip(\"\\n\").split()[1])\n",
    "        if v[0].strip(\"\\n\").split()[1] == b:\n",
    "            print('tr')\n",
    "            line=v[0].split(' ')\n",
    "            line= list(filter(None, line))\n",
    "            if len(c)>6:\n",
    "                line[2]=\"{:.2e}\".format(float(c))\n",
    "            line[0]=line[0].ljust(1)\n",
    "            line[1]=line[1].ljust(9)\n",
    "            line[2]=line[2].ljust(8)\n",
    "            print(line)\n",
    "            v[0]=v[0].replace(v[0],(line[0]+line[1]+line[2]))\n",
    "keyfile.to_csv(\"ccc.key\", index=None)"
   ]
  },
  {
   "cell_type": "code",
   "execution_count": 114,
   "metadata": {},
   "outputs": [
    {
     "data": {
      "text/plain": [
       "array([['*PARAMETER'],\n",
       "       ['I no_use           0'],\n",
       "       ['R release        6.407598823863775'],\n",
       "       ['R accel          5.266282760307641'],\n",
       "       ['*END']], dtype=object)"
      ]
     },
     "execution_count": 114,
     "metadata": {},
     "output_type": "execute_result"
    }
   ],
   "source": [
    "keyfile.values"
   ]
  },
  {
   "cell_type": "code",
   "execution_count": 85,
   "metadata": {},
   "outputs": [
    {
     "data": {
      "text/plain": [
       "['R', 'accel', '0.6']"
      ]
     },
     "execution_count": 85,
     "metadata": {},
     "output_type": "execute_result"
    }
   ],
   "source": [
    "\n",
    "f"
   ]
  },
  {
   "cell_type": "code",
   "execution_count": 86,
   "metadata": {},
   "outputs": [
    {
     "data": {
      "text/plain": [
       "3"
      ]
     },
     "execution_count": 86,
     "metadata": {},
     "output_type": "execute_result"
    }
   ],
   "source": [
    "len(f)"
   ]
  },
  {
   "cell_type": "code",
   "execution_count": null,
   "metadata": {},
   "outputs": [],
   "source": []
  }
 ],
 "metadata": {
  "interpreter": {
   "hash": "4ffaee104d421f26687f4f05a862c62cf3b92a4cc09acd52f7b88bc496f1c747"
  },
  "kernelspec": {
   "display_name": "Python 3.8.12 ('dynakit_env')",
   "language": "python",
   "name": "python3"
  },
  "language_info": {
   "codemirror_mode": {
    "name": "ipython",
    "version": 3
   },
   "file_extension": ".py",
   "mimetype": "text/x-python",
   "name": "python",
   "nbconvert_exporter": "python",
   "pygments_lexer": "ipython3",
   "version": "3.8.12"
  },
  "orig_nbformat": 4
 },
 "nbformat": 4,
 "nbformat_minor": 2
}

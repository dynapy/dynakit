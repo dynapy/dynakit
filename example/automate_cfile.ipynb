{
 "cells": [
  {
   "cell_type": "code",
   "execution_count": 1,
   "metadata": {},
   "outputs": [],
   "source": [
    "import pandas as pd\n",
    "import os\n",
    "import subprocess\n",
    "from shutil import *\n",
    "import yaml\n",
    "from scipy.special import erf\n",
    "import numpy as np"
   ]
  },
  {
   "cell_type": "markdown",
   "metadata": {},
   "source": [
    "### Inputs\n",
    "\n",
    "- `cmd_file`$ \\ $: $ \\ $ Provide *``.cfile``* name if within the working directory, if not the complete path of the *``.cfile``*\n",
    "- `paths`$ \\ \\ \\ \\ \\ \\ $ : $ \\ $ List with all the folder names\n",
    "- `init_dir`$ \\ $: $ \\ $ Working directory, `os.getcwd()` if the script is in the directory with all the simulations\n"
   ]
  },
  {
   "cell_type": "code",
   "execution_count": 2,
   "metadata": {},
   "outputs": [],
   "source": [
    "cmd_file='Ribstrains.cfile'\n",
    "paths=['A','B']\n",
    "init_dir=os.getcwd()"
   ]
  },
  {
   "cell_type": "markdown",
   "metadata": {},
   "source": [
    "## Parameters to calculate the risk"
   ]
  },
  {
   "cell_type": "code",
   "execution_count": 3,
   "metadata": {},
   "outputs": [],
   "source": [
    "#local criteria\n",
    "alpha=0.3026\n",
    "b0=-2.9866\n",
    "b1=-0.0130\n",
    "age=50\n",
    "\n",
    "#global criteria\n",
    "int=3.579805\n",
    "coef_age=-0.00553\n",
    "log_scale=-1.47593"
   ]
  },
  {
   "cell_type": "markdown",
   "metadata": {},
   "source": [
    "#### Chest Local tissue injury criteria\n",
    "$\n",
    "Failure\\ risk(strain,Age)=\\frac{1}{2}+\\frac{1}{2}erf\\left[ \\frac{LN(strain)-(\\beta_0+age*\\beta_1))}{\\alpha*\\sqrt{2}} \\right]\n",
    "$\n",
    "\n",
    "$\n",
    "Total\\ number\\ of\\ fractured\\ ribs = \\sum_{i=1}^{24}𝑓𝑟𝑎𝑡𝑢𝑟𝑒\\ 𝑟𝑖𝑠𝑘\\ 𝑓𝑜𝑟\\ 𝑟𝑖𝑏\\ 𝑖\n",
    "$"
   ]
  },
  {
   "cell_type": "code",
   "execution_count": 4,
   "metadata": {},
   "outputs": [],
   "source": [
    "def fracture_risk_calc(rib_strains,age):\n",
    "    fracture_risk=0\n",
    "    for y in range(len(rib_strains)):\n",
    "        prob=0.5+(0.5*erf((np.log(rib_strains[y][0])-(b0+(b1*age)))/(alpha*np.sqrt(2))))\n",
    "        fracture_risk=fracture_risk+prob\n",
    "    return fracture_risk"
   ]
  },
  {
   "cell_type": "markdown",
   "metadata": {},
   "source": [
    "#### Chest Global injury Criteria\n",
    "$\n",
    "risk(\\%)=\\frac{1}{2}+\\frac{1}{2}erf\\left[ \\frac{ln(injury\\ criteria)-(int+age*coef\\_age)}{\\sqrt{2*(exp(log-scale)^{2})}} \\right]\n",
    "$"
   ]
  },
  {
   "cell_type": "code",
   "execution_count": 5,
   "metadata": {},
   "outputs": [],
   "source": [
    "def chest_global_risk_calc(injury_criteria,age):\n",
    "    # risk=0\n",
    "    risk=(0.5+(0.5*erf((np.log(injury_criteria)-(int+(coef_age*age)))/(np.sqrt(2*(np.exp(log_scale))**2)))))*100\n",
    "    return risk"
   ]
  },
  {
   "cell_type": "markdown",
   "metadata": {},
   "source": [
    "## Postprocess using .cfile and store result in yaml file"
   ]
  },
  {
   "cell_type": "code",
   "execution_count": 6,
   "metadata": {},
   "outputs": [],
   "source": [
    "for key,p in enumerate(paths):\n",
    "    os.chdir(init_dir)\n",
    "    copy(cmd_file, p)\n",
    "    os.chdir(p)\n",
    "\n",
    "    command_process=subprocess.Popen('C:\\Progs\\LSTC\\LSDYNA\\lsprepost4.6_x64.exe {}'.format(cmd_file), stdout=subprocess.PIPE)\n",
    "    output, err = command_process.communicate() \n",
    "\n",
    "    ## Extract the strains and calculate risk probability\n",
    "    strains={}\n",
    "    vals=['L','R']\n",
    "    for k,v in enumerate(vals):\n",
    "        for i in range(12):\n",
    "            data=pd.read_csv('{}{}.csv'.format(v,i+1),delimiter=',',header = None, skiprows=2)\n",
    "            strain=max(data.iloc[: , 1:].max())\n",
    "            strains['{}{}'.format(v,i+1)]=strain\n",
    "            os. remove('{}{}.csv'.format(v,i+1))\n",
    "    df_strain=pd.DataFrame.from_dict(strains, orient='index')\n",
    "    st=df_strain.values\n",
    "    # df_strain.to_csv('max_strains.csv')\n",
    "\n",
    "    ## Write the results yaml file\n",
    "    res={}\n",
    "    res['Number of fractured ribs']=float(fracture_risk_calc(st,age))\n",
    "    \n",
    "    #extract HIC15\n",
    "    df_hic=pd.read_csv('hic15.csv',skiprows=8,nrows=1, delimiter=',', header=None)\n",
    "    res['HIC 15']=float(df_hic[0].str.split('=')[0][1])\n",
    "    os. remove('hic15.csv')\n",
    "    os. remove('resultantData')\n",
    "    #extract chest deflection\n",
    "    df_chest=pd.read_csv('chest_def.csv', header=None,skiprows=2)\n",
    "    initial_len=df_chest[df_chest.iloc[:,0]==0].values\n",
    "    os. remove('chest_def.csv')\n",
    "    res['chest deflection']=float(((initial_len[0][1]-min(df_chest.iloc[:,1]))/initial_len[0][1])*100)\n",
    "    res['fracture risk global criteria']=float(chest_global_risk_calc(res['chest deflection'],age))\n",
    "    with open('result.yaml','w') as sol:\n",
    "        yaml.dump(res,sol,default_flow_style = False, sort_keys=False)\n"
   ]
  },
  {
   "cell_type": "markdown",
   "metadata": {},
   "source": [
    "## Compile to a single dataset"
   ]
  },
  {
   "cell_type": "code",
   "execution_count": 7,
   "metadata": {},
   "outputs": [],
   "source": [
    "os.chdir(init_dir)\n",
    "Result_set = pd.DataFrame(data=None,columns=None,dtype=None,copy=False)\n",
    "for k,v in enumerate(paths):\n",
    "    os.chdir(v)\n",
    "    with open('result.yaml','r') as file:\n",
    "        out = yaml.load(file, Loader=yaml.FullLoader) \n",
    "    df_output_set = pd.DataFrame.from_dict(out, orient='index').T\n",
    "    df_output_set.insert(0, \"simulation file\", v, True)\n",
    "    Result_set=Result_set.append(df_output_set,ignore_index=True)\n",
    "    os. remove('result.yaml')\n",
    "    os.chdir(init_dir)\n",
    "Result_set.to_csv(\"simulation_results.csv\", index=False)"
   ]
  },
  {
   "cell_type": "code",
   "execution_count": null,
   "metadata": {},
   "outputs": [],
   "source": []
  }
 ],
 "metadata": {
  "interpreter": {
   "hash": "75cde88f23968f8fa1ecfbf7460190be4456c844b7e64017166c0b11e40cd16f"
  },
  "kernelspec": {
   "display_name": "Python 3.8.12 ('dynakit_env')",
   "language": "python",
   "name": "python3"
  },
  "language_info": {
   "codemirror_mode": {
    "name": "ipython",
    "version": 3
   },
   "file_extension": ".py",
   "mimetype": "text/x-python",
   "name": "python",
   "nbconvert_exporter": "python",
   "pygments_lexer": "ipython3",
   "version": "3.8.12"
  },
  "orig_nbformat": 4
 },
 "nbformat": 4,
 "nbformat_minor": 2
}

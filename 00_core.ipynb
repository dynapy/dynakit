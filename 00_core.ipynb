{
 "cells": [
  {
   "cell_type": "code",
   "execution_count": null,
   "metadata": {},
   "outputs": [],
   "source": [
    "# default_exp test"
   ]
  },
  {
   "cell_type": "markdown",
   "metadata": {},
   "source": [
    "# Preprocess\n",
    "\n",
    "> API details."
   ]
  },
  {
   "cell_type": "code",
   "execution_count": null,
   "metadata": {},
   "outputs": [],
   "source": [
    "#hide\n",
    "from nbdev.showdoc import *"
   ]
  },
  {
   "cell_type": "markdown",
   "metadata": {},
   "source": [
    "## Preproces \n",
    "\n",
    "This class is used to preprocess in"
   ]
  },
  {
   "cell_type": "code",
   "execution_count": null,
   "metadata": {},
   "outputs": [],
   "source": [
    "#export\n",
    "\n",
    "class Test(): \n",
    "        \"\"\"\n",
    "        This Class contains set of methods which follows the \n",
    "        readig of the .yaml file and changing the input parameters \n",
    "        in the .key file to run Ls_Dyna accordingly.  \n",
    "        \"\"\"\n",
    "    \n",
    "        def __init__(self,para_list):\n",
    "        \n",
    "        self.para_list = para_list\n",
    "    \n",
    "        def value_read(self,par):\n",
    "            \"\"\"\n",
    "            This function is used to read the list in the .yaml file\n",
    "            by using the identifier to recognise the variable/parameter.\n",
    "            \"\"\"\n",
    "            \n",
    "            self.par = par\n",
    "            c = [d.get(self.par) for sublists in self.para_list.values() for d in sublists]\n",
    "            value = []\n",
    "            for val in c:\n",
    "                if val!= None:\n",
    "                    value.append(val)\n",
    "            return value"
   ]
  }
 ],
 "metadata": {
  "kernelspec": {
   "display_name": "Python 3",
   "language": "python",
   "name": "python3"
  },
  "language_info": {
   "codemirror_mode": {
    "name": "ipython",
    "version": 3
   },
   "file_extension": ".py",
   "mimetype": "text/x-python",
   "name": "python",
   "nbconvert_exporter": "python",
   "pygments_lexer": "ipython3",
   "version": "3.8.5"
  }
 },
 "nbformat": 4,
 "nbformat_minor": 4
}